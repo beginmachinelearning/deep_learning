{
 "cells": [
  {
   "cell_type": "code",
   "execution_count": 1,
   "metadata": {},
   "outputs": [],
   "source": [
    "import numpy as np\n",
    "import matplotlib.pyplot as plt\n",
    "import pandas as pd\n",
    "\n",
    "dataset=pd.read_csv(\"Churn_Modelling.csv\")\n",
    "\n",
    "X=dataset.iloc[:, 3:13].values\n",
    "y=dataset.iloc[:, 13].values\n",
    "\n",
    "\n",
    "from sklearn.preprocessing import LabelEncoder, OneHotEncoder\n",
    "labelencoder_X_1 = LabelEncoder()\n",
    "X[:, 1] = labelencoder_X_1.fit_transform(X[:, 1])\n",
    "\n",
    "labelencoder_X_2 = LabelEncoder()\n",
    "X[:, 2] = labelencoder_X_2.fit_transform(X[:, 2])\n",
    "\n",
    "\n",
    "onehotencoder = OneHotEncoder(categorical_features = [1])\n",
    "X = onehotencoder.fit_transform(X).toarray()\n",
    "X=X[:, 1:]\n",
    "\n",
    "\n",
    "from sklearn.model_selection import train_test_split\n",
    "X_train, X_test, y_train, y_test = train_test_split(X, y, test_size = 0.2, random_state = 0)\n",
    "\n",
    "\n",
    "# Feature Scaling\n",
    "from sklearn.preprocessing import StandardScaler\n",
    "sc = StandardScaler()\n",
    "X_train = sc.fit_transform(X_train)\n",
    "X_test = sc.transform(X_test)"
   ]
  },
  {
   "cell_type": "code",
   "execution_count": null,
   "metadata": {},
   "outputs": [],
   "source": [
    "from tensorflow.python.client import device_lib\n",
    "print(device_lib.list_local_devices())\n",
    "import tensorflow as tf\n",
    "sess = tf.Session(config=tf.ConfigProto(log_device_placement=True))\n",
    "\n",
    "import keras\n",
    "\n",
    "\n",
    "from keras.models import Sequential\n",
    "from keras.layers import Dense\n",
    "\n",
    "classifier=Sequential()\n",
    "\n",
    "classifier.add(Dense(6, kernel_initializer='uniform', input_dim=11, activation='relu'))\n",
    "\n",
    "classifier.add(Dense(6, activation='relu',  kernel_initializer='uniform'))\n",
    "\n",
    "classifier.add(Dense(1, activation='sigmoid', kernel_initializer='uniform'))\n",
    "classifier.compile(optimizer='adam', loss='binary_crossentropy', metrics = ['accuracy'])\n",
    "\n",
    "\n",
    "classifier.fit(X_train, y_train, batch_size = 10, epochs = 100)\n",
    "\n",
    "ypred=classifier.predict(X_test)"
   ]
  },
  {
   "cell_type": "code",
   "execution_count": 49,
   "metadata": {
    "scrolled": true
   },
   "outputs": [
    {
     "data": {
      "text/plain": [
       "array([[ 0.19668563],\n",
       "       [ 0.17973517],\n",
       "       [ 0.21107771],\n",
       "       ..., \n",
       "       [ 0.24225001],\n",
       "       [ 0.12653372],\n",
       "       [ 0.14809442]], dtype=float32)"
      ]
     },
     "execution_count": 49,
     "metadata": {},
     "output_type": "execute_result"
    }
   ],
   "source": [
    "ypred"
   ]
  },
  {
   "cell_type": "code",
   "execution_count": 50,
   "metadata": {},
   "outputs": [],
   "source": [
    "ypred = (ypred > 0.5)"
   ]
  },
  {
   "cell_type": "code",
   "execution_count": 51,
   "metadata": {},
   "outputs": [
    {
     "data": {
      "text/plain": [
       "array([[False],\n",
       "       [False],\n",
       "       [False],\n",
       "       ..., \n",
       "       [False],\n",
       "       [False],\n",
       "       [False]], dtype=bool)"
      ]
     },
     "execution_count": 51,
     "metadata": {},
     "output_type": "execute_result"
    }
   ],
   "source": [
    "ypred"
   ]
  },
  {
   "cell_type": "code",
   "execution_count": 52,
   "metadata": {},
   "outputs": [],
   "source": [
    "from sklearn.metrics import confusion_matrix\n",
    "cm = confusion_matrix(y_test, ypred)"
   ]
  },
  {
   "cell_type": "code",
   "execution_count": 53,
   "metadata": {},
   "outputs": [
    {
     "data": {
      "text/plain": [
       "array([[1525,   70],\n",
       "       [ 236,  169]])"
      ]
     },
     "execution_count": 53,
     "metadata": {},
     "output_type": "execute_result"
    }
   ],
   "source": [
    "cm"
   ]
  },
  {
   "cell_type": "code",
   "execution_count": 54,
   "metadata": {},
   "outputs": [
    {
     "data": {
      "text/plain": [
       "(2000, 11)"
      ]
     },
     "execution_count": 54,
     "metadata": {},
     "output_type": "execute_result"
    }
   ],
   "source": [
    "X_test.shape"
   ]
  },
  {
   "cell_type": "code",
   "execution_count": 105,
   "metadata": {},
   "outputs": [],
   "source": [
    "X_pred_single=np.array([100, 'Spain', 'Male', 20, 0, 0, 0, 0, 0, 0])"
   ]
  },
  {
   "cell_type": "code",
   "execution_count": null,
   "metadata": {},
   "outputs": [],
   "source": []
  },
  {
   "cell_type": "code",
   "execution_count": 106,
   "metadata": {},
   "outputs": [],
   "source": [
    "K=pd.DataFrame(X_pred_single.reshape(1, -1))"
   ]
  },
  {
   "cell_type": "code",
   "execution_count": 107,
   "metadata": {},
   "outputs": [],
   "source": [
    "K=K.iloc[:, :].values"
   ]
  },
  {
   "cell_type": "code",
   "execution_count": 108,
   "metadata": {},
   "outputs": [],
   "source": [
    "K[:, 1] = labelencoder_X_1.transform(K[:, 1])"
   ]
  },
  {
   "cell_type": "code",
   "execution_count": 95,
   "metadata": {},
   "outputs": [],
   "source": [
    "K[:, 2] = labelencoder_X_2.transform(K[:, 2])"
   ]
  },
  {
   "cell_type": "code",
   "execution_count": 96,
   "metadata": {},
   "outputs": [],
   "source": [
    "\n",
    "K = onehotencoder.transform(K).toarray()\n",
    "K=K[:, 1:]"
   ]
  },
  {
   "cell_type": "code",
   "execution_count": 97,
   "metadata": {},
   "outputs": [
    {
     "data": {
      "text/plain": [
       "(1, 11)"
      ]
     },
     "execution_count": 97,
     "metadata": {},
     "output_type": "execute_result"
    }
   ],
   "source": [
    "sc.transform(K)\n",
    "K.shape"
   ]
  },
  {
   "cell_type": "code",
   "execution_count": 98,
   "metadata": {},
   "outputs": [],
   "source": [
    "\n",
    "ypred=classifier.predict(K)"
   ]
  },
  {
   "cell_type": "code",
   "execution_count": 99,
   "metadata": {},
   "outputs": [
    {
     "data": {
      "text/plain": [
       "array([False], dtype=bool)"
      ]
     },
     "execution_count": 99,
     "metadata": {},
     "output_type": "execute_result"
    }
   ],
   "source": [
    "(ypred[0]>0.5)"
   ]
  },
  {
   "cell_type": "code",
   "execution_count": 70,
   "metadata": {},
   "outputs": [
    {
     "data": {
      "text/plain": [
       "array([[  0.00000000e+00,   0.00000000e+00,   6.00000000e+02,\n",
       "          1.00000000e+00,   4.00000000e+01,   2.00000000e+00,\n",
       "          6.00000000e+03,   2.00000000e+00,   1.00000000e+00,\n",
       "          1.00000000e+00,   5.00000000e+04]])"
      ]
     },
     "execution_count": 70,
     "metadata": {},
     "output_type": "execute_result"
    }
   ],
   "source": [
    "K"
   ]
  },
  {
   "cell_type": "code",
   "execution_count": 109,
   "metadata": {},
   "outputs": [
    {
     "data": {
      "text/plain": [
       "array([['100', 2, 'Male', '20', '0', '0', '0', '0', '0', '0']], dtype=object)"
      ]
     },
     "execution_count": 109,
     "metadata": {},
     "output_type": "execute_result"
    }
   ],
   "source": [
    "K"
   ]
  },
  {
   "cell_type": "code",
   "execution_count": 2,
   "metadata": {},
   "outputs": [
    {
     "name": "stderr",
     "output_type": "stream",
     "text": [
      "Using TensorFlow backend.\n"
     ]
    }
   ],
   "source": [
    "import keras\n",
    "\n",
    "\n",
    "from keras.models import Sequential\n",
    "from keras.layers import Dense\n",
    "\n",
    "\n",
    "\n",
    "#classifier.fit(X_train, y_train, batch_size = 10, epochs = 100)\n",
    "\n",
    "#ypred=classifier.predict(X_test)"
   ]
  },
  {
   "cell_type": "code",
   "execution_count": 2,
   "metadata": {},
   "outputs": [],
   "source": [
    "\n",
    "def build_classifier():\n",
    "    classifier=Sequential()\n",
    "    classifier.add(Dense(6, kernel_initializer='uniform', input_dim=11, activation='relu'))\n",
    "    classifier.add(Dense(6, activation='relu',  kernel_initializer='uniform'))\n",
    "    classifier.add(Dense(1, activation='sigmoid', kernel_initializer='uniform'))\n",
    "    classifier.compile(optimizer='adam', loss='binary_crossentropy', metrics = ['accuracy'])\n",
    "    return classifier\n"
   ]
  },
  {
   "cell_type": "code",
   "execution_count": null,
   "metadata": {},
   "outputs": [
    {
     "name": "stderr",
     "output_type": "stream",
     "text": [
      "Using TensorFlow backend.\n"
     ]
    }
   ],
   "source": [
    "from keras.wrappers.scikit_learn import KerasClassifier\n",
    "from sklearn.model_selection import cross_val_score\n",
    "\n",
    "classifier=KerasClassifier(build_fn=build_classifier, batch_size = 10, epochs = 50)\n",
    "accuracies=cross_val_score(estimator=classifier, X=X_train, y=y_train, cv=2, n_jobs=-1)"
   ]
  },
  {
   "cell_type": "code",
   "execution_count": 6,
   "metadata": {},
   "outputs": [
    {
     "data": {
      "text/plain": [
       "array([ 0.83999999,  0.84624999,  0.8725    ,  0.8275    ,  0.85624999,\n",
       "        0.82875   ,  0.85999999,  0.83374999,  0.81375   ,  0.84374999])"
      ]
     },
     "execution_count": 6,
     "metadata": {},
     "output_type": "execute_result"
    }
   ],
   "source": [
    "accuracies"
   ]
  },
  {
   "cell_type": "code",
   "execution_count": 7,
   "metadata": {},
   "outputs": [
    {
     "data": {
      "text/plain": [
       "0.84224999498575914"
      ]
     },
     "execution_count": 7,
     "metadata": {},
     "output_type": "execute_result"
    }
   ],
   "source": [
    "accuracies.mean()"
   ]
  },
  {
   "cell_type": "code",
   "execution_count": 8,
   "metadata": {},
   "outputs": [
    {
     "data": {
      "text/plain": [
       "0.016534055095404059"
      ]
     },
     "execution_count": 8,
     "metadata": {},
     "output_type": "execute_result"
    }
   ],
   "source": [
    "accuracies.std()"
   ]
  },
  {
   "cell_type": "code",
   "execution_count": 13,
   "metadata": {},
   "outputs": [
    {
     "data": {
      "text/plain": [
       "(10,)"
      ]
     },
     "execution_count": 13,
     "metadata": {},
     "output_type": "execute_result"
    }
   ],
   "source": [
    "accuracies.shape"
   ]
  },
  {
   "cell_type": "code",
   "execution_count": 14,
   "metadata": {},
   "outputs": [
    {
     "data": {
      "text/plain": [
       "array([ 0.81375   ,  0.8275    ,  0.82875   ,  0.83374999,  0.83999999,\n",
       "        0.84374999,  0.84624999,  0.85624999,  0.85999999,  0.8725    ])"
      ]
     },
     "execution_count": 14,
     "metadata": {},
     "output_type": "execute_result"
    }
   ],
   "source": [
    "import numpy as np\n",
    "np.sort(accuracies)"
   ]
  },
  {
   "cell_type": "code",
   "execution_count": 15,
   "metadata": {},
   "outputs": [
    {
     "name": "stderr",
     "output_type": "stream",
     "text": [
      "/Users/maxim/anaconda3/envs/tensorflow/lib/python2.7/site-packages/ipykernel_launcher.py:14: UserWarning: Update your `Dropout` call to the Keras 2 API: `Dropout(rate=0.1)`\n",
      "  \n",
      "/Users/maxim/anaconda3/envs/tensorflow/lib/python2.7/site-packages/ipykernel_launcher.py:17: UserWarning: Update your `Dropout` call to the Keras 2 API: `Dropout(rate=0.1)`\n"
     ]
    },
    {
     "name": "stdout",
     "output_type": "stream",
     "text": [
      "Epoch 1/100\n",
      "8000/8000 [==============================] - 2s 280us/step - loss: 0.4985 - acc: 0.7955\n",
      "Epoch 2/100\n",
      "8000/8000 [==============================] - 2s 274us/step - loss: 0.4400 - acc: 0.7960\n",
      "Epoch 3/100\n",
      "8000/8000 [==============================] - 2s 265us/step - loss: 0.4372 - acc: 0.7960\n",
      "Epoch 4/100\n",
      "8000/8000 [==============================] - 2s 265us/step - loss: 0.4350 - acc: 0.7960\n",
      "Epoch 5/100\n",
      "8000/8000 [==============================] - 2s 287us/step - loss: 0.4342 - acc: 0.7960\n",
      "Epoch 6/100\n",
      "8000/8000 [==============================] - 2s 295us/step - loss: 0.4337 - acc: 0.7960\n",
      "Epoch 7/100\n",
      "8000/8000 [==============================] - 3s 322us/step - loss: 0.4325 - acc: 0.7960\n",
      "Epoch 8/100\n",
      "8000/8000 [==============================] - 2s 301us/step - loss: 0.4306 - acc: 0.7960\n",
      "Epoch 9/100\n",
      "8000/8000 [==============================] - 3s 313us/step - loss: 0.4304 - acc: 0.7961\n",
      "Epoch 10/100\n",
      "8000/8000 [==============================] - 3s 338us/step - loss: 0.4306 - acc: 0.8141\n",
      "Epoch 11/100\n",
      "8000/8000 [==============================] - 3s 369us/step - loss: 0.4251 - acc: 0.8209\n",
      "Epoch 12/100\n",
      "8000/8000 [==============================] - 3s 350us/step - loss: 0.4284 - acc: 0.8272\n",
      "Epoch 13/100\n",
      "8000/8000 [==============================] - 3s 356us/step - loss: 0.4259 - acc: 0.8272\n",
      "Epoch 14/100\n",
      "8000/8000 [==============================] - 3s 361us/step - loss: 0.4247 - acc: 0.8261\n",
      "Epoch 15/100\n",
      "8000/8000 [==============================] - 3s 373us/step - loss: 0.4227 - acc: 0.8281\n",
      "Epoch 16/100\n",
      "8000/8000 [==============================] - 3s 347us/step - loss: 0.4229 - acc: 0.8279\n",
      "Epoch 17/100\n",
      "8000/8000 [==============================] - 3s 364us/step - loss: 0.4280 - acc: 0.8284\n",
      "Epoch 18/100\n",
      "8000/8000 [==============================] - 3s 352us/step - loss: 0.4259 - acc: 0.8294\n",
      "Epoch 19/100\n",
      "8000/8000 [==============================] - 3s 378us/step - loss: 0.4250 - acc: 0.8286\n",
      "Epoch 20/100\n",
      "8000/8000 [==============================] - 3s 327us/step - loss: 0.4274 - acc: 0.8322\n",
      "Epoch 21/100\n",
      "8000/8000 [==============================] - 3s 347us/step - loss: 0.4269 - acc: 0.8294\n",
      "Epoch 22/100\n",
      "8000/8000 [==============================] - 3s 349us/step - loss: 0.4279 - acc: 0.8286\n",
      "Epoch 23/100\n",
      "8000/8000 [==============================] - 3s 360us/step - loss: 0.4244 - acc: 0.8314\n",
      "Epoch 24/100\n",
      "8000/8000 [==============================] - 3s 380us/step - loss: 0.4256 - acc: 0.8300\n",
      "Epoch 25/100\n",
      "8000/8000 [==============================] - 3s 363us/step - loss: 0.4260 - acc: 0.8276\n",
      "Epoch 26/100\n",
      "8000/8000 [==============================] - 3s 357us/step - loss: 0.4249 - acc: 0.8306\n",
      "Epoch 27/100\n",
      "8000/8000 [==============================] - 3s 354us/step - loss: 0.4244 - acc: 0.8304\n",
      "Epoch 28/100\n",
      "8000/8000 [==============================] - 3s 351us/step - loss: 0.4239 - acc: 0.8305\n",
      "Epoch 29/100\n",
      "8000/8000 [==============================] - 3s 360us/step - loss: 0.4276 - acc: 0.8311\n",
      "Epoch 30/100\n",
      "8000/8000 [==============================] - 3s 347us/step - loss: 0.4249 - acc: 0.8320\n",
      "Epoch 31/100\n",
      "8000/8000 [==============================] - 3s 348us/step - loss: 0.4234 - acc: 0.8322\n",
      "Epoch 32/100\n",
      "8000/8000 [==============================] - 3s 368us/step - loss: 0.4218 - acc: 0.8316\n",
      "Epoch 33/100\n",
      "8000/8000 [==============================] - 3s 356us/step - loss: 0.4246 - acc: 0.8299\n",
      "Epoch 34/100\n",
      "8000/8000 [==============================] - 3s 395us/step - loss: 0.4238 - acc: 0.8302\n",
      "Epoch 35/100\n",
      "8000/8000 [==============================] - 3s 404us/step - loss: 0.4208 - acc: 0.8335\n",
      "Epoch 36/100\n",
      "8000/8000 [==============================] - 3s 379us/step - loss: 0.4210 - acc: 0.8314\n",
      "Epoch 37/100\n",
      "8000/8000 [==============================] - 3s 346us/step - loss: 0.4241 - acc: 0.8325\n",
      "Epoch 38/100\n",
      "8000/8000 [==============================] - 3s 340us/step - loss: 0.4208 - acc: 0.8329\n",
      "Epoch 39/100\n",
      "8000/8000 [==============================] - 3s 325us/step - loss: 0.4261 - acc: 0.8317\n",
      "Epoch 40/100\n",
      "8000/8000 [==============================] - 3s 319us/step - loss: 0.4229 - acc: 0.8316\n",
      "Epoch 41/100\n",
      "8000/8000 [==============================] - 3s 315us/step - loss: 0.4226 - acc: 0.8304\n",
      "Epoch 42/100\n",
      "8000/8000 [==============================] - 3s 332us/step - loss: 0.4227 - acc: 0.8316\n",
      "Epoch 43/100\n",
      "8000/8000 [==============================] - 3s 328us/step - loss: 0.4234 - acc: 0.8334\n",
      "Epoch 44/100\n",
      "8000/8000 [==============================] - 3s 316us/step - loss: 0.4207 - acc: 0.8311\n",
      "Epoch 45/100\n",
      "8000/8000 [==============================] - 3s 320us/step - loss: 0.4225 - acc: 0.8317\n",
      "Epoch 46/100\n",
      "8000/8000 [==============================] - 3s 327us/step - loss: 0.4231 - acc: 0.8316\n",
      "Epoch 47/100\n",
      "8000/8000 [==============================] - 3s 313us/step - loss: 0.4211 - acc: 0.8325\n",
      "Epoch 48/100\n",
      "8000/8000 [==============================] - 3s 327us/step - loss: 0.4206 - acc: 0.8290\n",
      "Epoch 49/100\n",
      "8000/8000 [==============================] - 3s 315us/step - loss: 0.4227 - acc: 0.8324\n",
      "Epoch 50/100\n",
      "8000/8000 [==============================] - 3s 318us/step - loss: 0.4252 - acc: 0.8312\n",
      "Epoch 51/100\n",
      "8000/8000 [==============================] - 3s 314us/step - loss: 0.4251 - acc: 0.8331\n",
      "Epoch 52/100\n",
      "8000/8000 [==============================] - 3s 328us/step - loss: 0.4241 - acc: 0.8312\n",
      "Epoch 53/100\n",
      "8000/8000 [==============================] - 3s 319us/step - loss: 0.4215 - acc: 0.8321\n",
      "Epoch 54/100\n",
      "8000/8000 [==============================] - 3s 315us/step - loss: 0.4223 - acc: 0.8336\n",
      "Epoch 55/100\n",
      "8000/8000 [==============================] - 3s 315us/step - loss: 0.4206 - acc: 0.8329\n",
      "Epoch 56/100\n",
      "8000/8000 [==============================] - 3s 329us/step - loss: 0.4213 - acc: 0.8339\n",
      "Epoch 57/100\n",
      "8000/8000 [==============================] - 3s 319us/step - loss: 0.4203 - acc: 0.8312\n",
      "Epoch 58/100\n",
      "8000/8000 [==============================] - 3s 316us/step - loss: 0.4227 - acc: 0.8324\n",
      "Epoch 59/100\n",
      "8000/8000 [==============================] - 3s 328us/step - loss: 0.4223 - acc: 0.8307\n",
      "Epoch 60/100\n",
      "8000/8000 [==============================] - 3s 329us/step - loss: 0.4212 - acc: 0.8317\n",
      "Epoch 61/100\n",
      "8000/8000 [==============================] - 3s 339us/step - loss: 0.4198 - acc: 0.8326\n",
      "Epoch 62/100\n",
      "8000/8000 [==============================] - 3s 321us/step - loss: 0.4210 - acc: 0.8336\n",
      "Epoch 63/100\n",
      "8000/8000 [==============================] - 3s 313us/step - loss: 0.4253 - acc: 0.8309\n",
      "Epoch 64/100\n",
      "8000/8000 [==============================] - 3s 320us/step - loss: 0.4192 - acc: 0.8332\n",
      "Epoch 65/100\n",
      "8000/8000 [==============================] - 2s 312us/step - loss: 0.4211 - acc: 0.8317\n",
      "Epoch 66/100\n",
      "8000/8000 [==============================] - 3s 329us/step - loss: 0.4201 - acc: 0.8317\n",
      "Epoch 67/100\n",
      "8000/8000 [==============================] - 3s 314us/step - loss: 0.4208 - acc: 0.8326\n",
      "Epoch 68/100\n",
      "8000/8000 [==============================] - 3s 321us/step - loss: 0.4211 - acc: 0.8289\n",
      "Epoch 69/100\n",
      "8000/8000 [==============================] - 3s 334us/step - loss: 0.4223 - acc: 0.8309\n",
      "Epoch 70/100\n",
      "8000/8000 [==============================] - 3s 316us/step - loss: 0.4246 - acc: 0.8326\n",
      "Epoch 71/100\n",
      "8000/8000 [==============================] - 3s 314us/step - loss: 0.4185 - acc: 0.8320\n",
      "Epoch 72/100\n",
      "8000/8000 [==============================] - 2s 312us/step - loss: 0.4261 - acc: 0.8322\n",
      "Epoch 73/100\n",
      "8000/8000 [==============================] - 3s 314us/step - loss: 0.4213 - acc: 0.8311\n",
      "Epoch 74/100\n",
      "8000/8000 [==============================] - 3s 314us/step - loss: 0.4198 - acc: 0.8315\n",
      "Epoch 75/100\n",
      "8000/8000 [==============================] - 3s 322us/step - loss: 0.4211 - acc: 0.8334\n",
      "Epoch 76/100\n",
      "8000/8000 [==============================] - 3s 319us/step - loss: 0.4236 - acc: 0.8304\n",
      "Epoch 77/100\n",
      "8000/8000 [==============================] - 3s 318us/step - loss: 0.4226 - acc: 0.8312\n",
      "Epoch 78/100\n",
      "8000/8000 [==============================] - 3s 315us/step - loss: 0.4213 - acc: 0.8306\n",
      "Epoch 79/100\n",
      "8000/8000 [==============================] - 3s 320us/step - loss: 0.4244 - acc: 0.8306\n",
      "Epoch 80/100\n",
      "8000/8000 [==============================] - 3s 335us/step - loss: 0.4238 - acc: 0.8326\n",
      "Epoch 81/100\n",
      "8000/8000 [==============================] - 3s 370us/step - loss: 0.4193 - acc: 0.8311\n",
      "Epoch 82/100\n",
      "8000/8000 [==============================] - 3s 385us/step - loss: 0.4187 - acc: 0.8315\n",
      "Epoch 83/100\n",
      "8000/8000 [==============================] - 3s 384us/step - loss: 0.4227 - acc: 0.8315\n",
      "Epoch 84/100\n",
      "8000/8000 [==============================] - 3s 358us/step - loss: 0.4238 - acc: 0.8314\n",
      "Epoch 85/100\n",
      "8000/8000 [==============================] - 3s 358us/step - loss: 0.4198 - acc: 0.8321\n",
      "Epoch 86/100\n",
      "8000/8000 [==============================] - 3s 359us/step - loss: 0.4218 - acc: 0.8316\n",
      "Epoch 87/100\n",
      "8000/8000 [==============================] - 4s 462us/step - loss: 0.4223 - acc: 0.8302\n",
      "Epoch 88/100\n",
      "8000/8000 [==============================] - 4s 535us/step - loss: 0.4244 - acc: 0.8289\n",
      "Epoch 89/100\n",
      "8000/8000 [==============================] - 3s 405us/step - loss: 0.4228 - acc: 0.8299\n",
      "Epoch 90/100\n",
      "8000/8000 [==============================] - 3s 390us/step - loss: 0.4211 - acc: 0.8320\n",
      "Epoch 91/100\n",
      "8000/8000 [==============================] - 3s 380us/step - loss: 0.4195 - acc: 0.8321\n",
      "Epoch 92/100\n",
      "8000/8000 [==============================] - 3s 361us/step - loss: 0.4219 - acc: 0.8309\n",
      "Epoch 93/100\n",
      "8000/8000 [==============================] - 3s 367us/step - loss: 0.4208 - acc: 0.8326\n",
      "Epoch 94/100\n",
      "8000/8000 [==============================] - 3s 358us/step - loss: 0.4222 - acc: 0.8342\n",
      "Epoch 95/100\n",
      "8000/8000 [==============================] - 3s 393us/step - loss: 0.4221 - acc: 0.8324\n",
      "Epoch 96/100\n",
      "8000/8000 [==============================] - 3s 361us/step - loss: 0.4214 - acc: 0.8321\n",
      "Epoch 97/100\n",
      "8000/8000 [==============================] - 3s 369us/step - loss: 0.4184 - acc: 0.8311\n",
      "Epoch 98/100\n",
      "8000/8000 [==============================] - 3s 366us/step - loss: 0.4218 - acc: 0.8315\n",
      "Epoch 99/100\n",
      "8000/8000 [==============================] - 3s 380us/step - loss: 0.4248 - acc: 0.8324\n",
      "Epoch 100/100\n",
      "8000/8000 [==============================] - 3s 375us/step - loss: 0.4222 - acc: 0.8349\n"
     ]
    }
   ],
   "source": [
    "import tensorflow as tf\n",
    "\n",
    "\n",
    "import keras\n",
    "\n",
    "\n",
    "from keras.models import Sequential\n",
    "from keras.layers import Dense\n",
    "from keras.layers import Dropout\n",
    "\n",
    "classifier=Sequential()\n",
    "\n",
    "classifier.add(Dense(6, kernel_initializer='uniform', input_dim=11, activation='relu'))\n",
    "classifier.add(Dropout(p=0.1))\n",
    "\n",
    "classifier.add(Dense(6, activation='relu',  kernel_initializer='uniform'))\n",
    "classifier.add(Dropout(p=0.1))\n",
    "\n",
    "classifier.add(Dense(1, activation='sigmoid', kernel_initializer='uniform'))\n",
    "classifier.compile(optimizer='adam', loss='binary_crossentropy', metrics = ['accuracy'])\n",
    "\n",
    "\n",
    "classifier.fit(X_train, y_train, batch_size = 10, epochs = 100)\n",
    "\n",
    "ypred=classifier.predict(X_test)"
   ]
  },
  {
   "cell_type": "code",
   "execution_count": 4,
   "metadata": {},
   "outputs": [],
   "source": [
    "from keras.wrappers.scikit_learn import KerasClassifier\n",
    "from sklearn.model_selection import cross_val_score\n",
    "from sklearn.model_selection import GridSearchCV\n",
    "\n",
    "import tensorflow as tf\n",
    "\n",
    "\n",
    "import keras\n",
    "\n",
    "\n",
    "from keras.models import Sequential\n",
    "from keras.layers import Dense\n",
    "from keras.layers import Dropout\n",
    "\n",
    "def build_classifier1(optimizer):\n",
    "    classifier=Sequential()\n",
    "    classifier.add(Dense(6, kernel_initializer='uniform', input_dim=11, activation='relu'))\n",
    "    classifier.add(Dropout(p=0.1))\n",
    "    classifier.add(Dense(6, activation='relu',  kernel_initializer='uniform'))\n",
    "    classifier.add(Dropout(p=0.1))\n",
    "    classifier.add(Dense(1, activation='sigmoid', kernel_initializer='uniform'))\n",
    "    classifier.add(Dropout(p=0.1))\n",
    "    classifier.compile(optimizer=optimizer, loss='binary_crossentropy', metrics = ['accuracy'])\n",
    "    return classifier\n",
    "\n",
    "classifier=KerasClassifier(build_fn=build_classifier1, batch_size = 10, epochs = 50)\n"
   ]
  },
  {
   "cell_type": "code",
   "execution_count": null,
   "metadata": {},
   "outputs": [
    {
     "name": "stderr",
     "output_type": "stream",
     "text": [
      "F:\\Anaconda\\envs\\tf-gpu\\lib\\site-packages\\ipykernel_launcher.py:18: UserWarning: Update your `Dropout` call to the Keras 2 API: `Dropout(rate=0.1)`\n",
      "F:\\Anaconda\\envs\\tf-gpu\\lib\\site-packages\\ipykernel_launcher.py:20: UserWarning: Update your `Dropout` call to the Keras 2 API: `Dropout(rate=0.1)`\n",
      "F:\\Anaconda\\envs\\tf-gpu\\lib\\site-packages\\ipykernel_launcher.py:22: UserWarning: Update your `Dropout` call to the Keras 2 API: `Dropout(rate=0.1)`\n"
     ]
    },
    {
     "name": "stdout",
     "output_type": "stream",
     "text": [
      "Epoch 1/50\n"
     ]
    }
   ],
   "source": [
    "parameters={'batch_size':[25, 32],\n",
    "           'epochs':[50, 250],\n",
    "           'optimizer':['adam', 'rmsprop']}\n",
    "\n",
    "grid_search=GridSearchCV(estimator=classifier, param_grid=parameters, scoring='accuracy', cv=10)\n",
    "grid_search.fit(X_train, y_train)"
   ]
  },
  {
   "cell_type": "code",
   "execution_count": null,
   "metadata": {},
   "outputs": [],
   "source": []
  }
 ],
 "metadata": {
  "kernelspec": {
   "display_name": "TensorFlow-GPU",
   "language": "python",
   "name": "tf-gpu"
  },
  "language_info": {
   "codemirror_mode": {
    "name": "ipython",
    "version": 3
   },
   "file_extension": ".py",
   "mimetype": "text/x-python",
   "name": "python",
   "nbconvert_exporter": "python",
   "pygments_lexer": "ipython3",
   "version": "3.6.6"
  }
 },
 "nbformat": 4,
 "nbformat_minor": 2
}
