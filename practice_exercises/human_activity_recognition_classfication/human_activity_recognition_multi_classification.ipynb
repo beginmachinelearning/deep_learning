{
 "cells": [
  {
   "cell_type": "code",
   "execution_count": 16,
   "metadata": {},
   "outputs": [],
   "source": [
    "import pandas as pd\n",
    "import numpy as np\n",
    "import seaborn as sns\n",
    "import matplotlib.pylab as plt\n",
    "from scipy import stats\n",
    "from scipy.stats import norm\n",
    "from scipy import stats\n",
    "from scipy.stats import norm\n",
    "from numpy import genfromtxt"
   ]
  },
  {
   "cell_type": "code",
   "execution_count": 17,
   "metadata": {},
   "outputs": [],
   "source": [
    "X_train=pd.read_csv(\"data/train/X_train.txt\",delim_whitespace=True, header=None)\n",
    "y_train=pd.read_csv(\"data/train/y_train.txt\",delim_whitespace=True, header=None)\n",
    "X_test=pd.read_csv(\"data/test/X_test.txt\",delim_whitespace=True, header=None)\n",
    "y_test=pd.read_csv(\"data/test/y_test.txt\",delim_whitespace=True, header=None)"
   ]
  },
  {
   "cell_type": "code",
   "execution_count": 18,
   "metadata": {},
   "outputs": [
    {
     "name": "stderr",
     "output_type": "stream",
     "text": [
      "F:\\Anaconda\\envs\\tf-gpu\\lib\\site-packages\\sklearn\\model_selection\\_split.py:2026: FutureWarning: From version 0.21, test_size will always complement train_size unless both are specified.\n",
      "  FutureWarning)\n"
     ]
    }
   ],
   "source": [
    "from sklearn.model_selection import train_test_split\n",
    "X_train, X_test1, y_train, y_test1= train_test_split(X_train, y_train, train_size=0.2)"
   ]
  },
  {
   "cell_type": "code",
   "execution_count": 19,
   "metadata": {},
   "outputs": [],
   "source": [
    "from sklearn.preprocessing import StandardScaler\n",
    "sc = StandardScaler()\n",
    "X_train = sc.fit_transform(X_train)\n",
    "X_test = sc.transform(X_test)"
   ]
  },
  {
   "cell_type": "code",
   "execution_count": 20,
   "metadata": {},
   "outputs": [
    {
     "data": {
      "text/plain": [
       "(1470, 561)"
      ]
     },
     "execution_count": 20,
     "metadata": {},
     "output_type": "execute_result"
    }
   ],
   "source": [
    "X_train.shape"
   ]
  },
  {
   "cell_type": "code",
   "execution_count": 21,
   "metadata": {
    "scrolled": true
   },
   "outputs": [
    {
     "data": {
      "text/plain": [
       "6    296\n",
       "5    278\n",
       "4    253\n",
       "1    243\n",
       "2    209\n",
       "3    191\n",
       "Name: 0, dtype: int64"
      ]
     },
     "execution_count": 21,
     "metadata": {},
     "output_type": "execute_result"
    }
   ],
   "source": [
    "y_train[0].value_counts()"
   ]
  },
  {
   "cell_type": "code",
   "execution_count": 22,
   "metadata": {},
   "outputs": [
    {
     "name": "stderr",
     "output_type": "stream",
     "text": [
      "F:\\Anaconda\\envs\\tf-gpu\\lib\\site-packages\\sklearn\\preprocessing\\label.py:111: DataConversionWarning: A column-vector y was passed when a 1d array was expected. Please change the shape of y to (n_samples, ), for example using ravel().\n",
      "  y = column_or_1d(y, warn=True)\n"
     ]
    }
   ],
   "source": [
    "from sklearn.preprocessing import LabelEncoder\n",
    "encoder =  LabelEncoder()\n",
    "y1 = encoder.fit_transform(y_train)\n",
    "\n",
    "Y = pd.get_dummies(y1).values"
   ]
  },
  {
   "cell_type": "code",
   "execution_count": 23,
   "metadata": {},
   "outputs": [
    {
     "data": {
      "text/plain": [
       "array([[0, 0, 0, 0, 1, 0],\n",
       "       [0, 0, 0, 1, 0, 0],\n",
       "       [0, 0, 0, 1, 0, 0],\n",
       "       ...,\n",
       "       [0, 0, 0, 0, 0, 1],\n",
       "       [0, 0, 0, 0, 0, 1],\n",
       "       [0, 0, 0, 0, 1, 0]], dtype=uint8)"
      ]
     },
     "execution_count": 23,
     "metadata": {},
     "output_type": "execute_result"
    }
   ],
   "source": [
    "Y"
   ]
  },
  {
   "cell_type": "code",
   "execution_count": 24,
   "metadata": {},
   "outputs": [],
   "source": [
    "import keras\n",
    "\n",
    "from keras.models import Sequential\n",
    "from keras.layers import Dense\n",
    "\n",
    "classifier=Sequential()"
   ]
  },
  {
   "cell_type": "code",
   "execution_count": 25,
   "metadata": {},
   "outputs": [],
   "source": [
    "classifier.add(Dense(100, input_dim=561, activation='relu'))\n",
    "classifier.add(Dense(100,  activation='relu'))\n",
    "\n",
    "classifier.add(Dense(6, activation='tanh'))\n",
    "\n"
   ]
  },
  {
   "cell_type": "code",
   "execution_count": 26,
   "metadata": {},
   "outputs": [
    {
     "data": {
      "text/plain": [
       "((1470, 561), (1470, 6))"
      ]
     },
     "execution_count": 26,
     "metadata": {},
     "output_type": "execute_result"
    }
   ],
   "source": [
    "X_train.shape, Y.shape"
   ]
  },
  {
   "cell_type": "code",
   "execution_count": 27,
   "metadata": {},
   "outputs": [
    {
     "name": "stdout",
     "output_type": "stream",
     "text": [
      "Epoch 1/50\n",
      "1470/1470 [==============================] - 0s 334us/step - loss: 0.4502 - acc: 0.3494\n",
      "Epoch 2/50\n",
      "1470/1470 [==============================] - 0s 141us/step - loss: 0.1911 - acc: 0.2771\n",
      "Epoch 3/50\n",
      "1470/1470 [==============================] - 0s 143us/step - loss: 0.1439 - acc: 0.2635\n",
      "Epoch 4/50\n",
      "1470/1470 [==============================] - 0s 142us/step - loss: 0.1753 - acc: 0.2578\n",
      "Epoch 5/50\n",
      "1470/1470 [==============================] - 0s 145us/step - loss: 0.4806 - acc: 0.2277\n",
      "Epoch 6/50\n",
      "1470/1470 [==============================] - 0s 149us/step - loss: 0.8060 - acc: 0.1611\n",
      "Epoch 7/50\n",
      "1470/1470 [==============================] - 0s 140us/step - loss: 0.5666 - acc: 0.1624\n",
      "Epoch 8/50\n",
      "1470/1470 [==============================] - 0s 143us/step - loss: 0.5753 - acc: 0.1610\n",
      "Epoch 9/50\n",
      "1470/1470 [==============================] - 0s 133us/step - loss: 0.5331 - acc: 0.1568\n",
      "Epoch 10/50\n",
      "1470/1470 [==============================] - 0s 150us/step - loss: 0.5194 - acc: 0.1560\n",
      "Epoch 11/50\n",
      "1470/1470 [==============================] - 0s 156us/step - loss: 0.5723 - acc: 0.1561\n",
      "Epoch 12/50\n",
      "1470/1470 [==============================] - 0s 158us/step - loss: 0.7600 - acc: 0.1955\n",
      "Epoch 13/50\n",
      "1470/1470 [==============================] - 0s 147us/step - loss: 0.9546 - acc: 0.1438\n",
      "Epoch 14/50\n",
      "1470/1470 [==============================] - 0s 158us/step - loss: 1.0049 - acc: 0.1110\n",
      "Epoch 15/50\n",
      "1470/1470 [==============================] - 0s 145us/step - loss: 1.0192 - acc: 0.1138\n",
      "Epoch 16/50\n",
      "1470/1470 [==============================] - 0s 146us/step - loss: 1.0254 - acc: 0.1080\n",
      "Epoch 17/50\n",
      "1470/1470 [==============================] - 0s 140us/step - loss: 0.9614 - acc: 0.1154\n",
      "Epoch 18/50\n",
      "1470/1470 [==============================] - 0s 141us/step - loss: 0.5881 - acc: 0.1421\n",
      "Epoch 19/50\n",
      "1470/1470 [==============================] - 0s 145us/step - loss: 0.5326 - acc: 0.1414\n",
      "Epoch 20/50\n",
      "1470/1470 [==============================] - 0s 147us/step - loss: 0.5311 - acc: 0.1424\n",
      "Epoch 21/50\n",
      "1470/1470 [==============================] - 0s 145us/step - loss: 0.5214 - acc: 0.1441\n",
      "Epoch 22/50\n",
      "1470/1470 [==============================] - 0s 150us/step - loss: 0.5132 - acc: 0.1466\n",
      "Epoch 23/50\n",
      "1470/1470 [==============================] - 0s 146us/step - loss: 0.5041 - acc: 0.1460\n",
      "Epoch 24/50\n",
      "1470/1470 [==============================] - 0s 144us/step - loss: 0.5013 - acc: 0.1454\n",
      "Epoch 25/50\n",
      "1470/1470 [==============================] - 0s 147us/step - loss: 0.5015 - acc: 0.1461\n",
      "Epoch 26/50\n",
      "1470/1470 [==============================] - 0s 143us/step - loss: 0.4970 - acc: 0.1473\n",
      "Epoch 27/50\n",
      "1470/1470 [==============================] - 0s 134us/step - loss: 0.5050 - acc: 0.1458\n",
      "Epoch 28/50\n",
      "1470/1470 [==============================] - 0s 156us/step - loss: 0.5145 - acc: 0.1456\n",
      "Epoch 29/50\n",
      "1470/1470 [==============================] - 0s 146us/step - loss: 0.4974 - acc: 0.1465\n",
      "Epoch 30/50\n",
      "1470/1470 [==============================] - 0s 158us/step - loss: 0.4915 - acc: 0.1469\n",
      "Epoch 31/50\n",
      "1470/1470 [==============================] - 0s 164us/step - loss: 0.4904 - acc: 0.1467\n",
      "Epoch 32/50\n",
      "1470/1470 [==============================] - 0s 149us/step - loss: 0.4900 - acc: 0.1474\n",
      "Epoch 33/50\n",
      "1470/1470 [==============================] - 0s 145us/step - loss: 0.4897 - acc: 0.1473\n",
      "Epoch 34/50\n",
      "1470/1470 [==============================] - 0s 149us/step - loss: 0.4892 - acc: 0.1477\n",
      "Epoch 35/50\n",
      "1470/1470 [==============================] - 0s 148us/step - loss: 0.4891 - acc: 0.1476\n",
      "Epoch 36/50\n",
      "1470/1470 [==============================] - 0s 153us/step - loss: 0.4888 - acc: 0.1477\n",
      "Epoch 37/50\n",
      "1470/1470 [==============================] - 0s 165us/step - loss: 0.4887 - acc: 0.1474\n",
      "Epoch 38/50\n",
      "1470/1470 [==============================] - 0s 165us/step - loss: 0.4883 - acc: 0.1475\n",
      "Epoch 39/50\n",
      "1470/1470 [==============================] - 0s 174us/step - loss: 0.4883 - acc: 0.1469\n",
      "Epoch 40/50\n",
      "1470/1470 [==============================] - 0s 155us/step - loss: 0.4883 - acc: 0.1475\n",
      "Epoch 41/50\n",
      "1470/1470 [==============================] - 0s 143us/step - loss: 0.4881 - acc: 0.1469\n",
      "Epoch 42/50\n",
      "1470/1470 [==============================] - 0s 136us/step - loss: 0.4879 - acc: 0.1473\n",
      "Epoch 43/50\n",
      "1470/1470 [==============================] - 0s 130us/step - loss: 0.4868 - acc: 0.1472\n",
      "Epoch 44/50\n",
      "1470/1470 [==============================] - 0s 132us/step - loss: 0.4862 - acc: 0.1472\n",
      "Epoch 45/50\n",
      "1470/1470 [==============================] - 0s 132us/step - loss: 0.4857 - acc: 0.1473\n",
      "Epoch 46/50\n",
      "1470/1470 [==============================] - 0s 162us/step - loss: 0.4858 - acc: 0.1458\n",
      "Epoch 47/50\n",
      "1470/1470 [==============================] - 0s 133us/step - loss: 0.4857 - acc: 0.1474 0s - loss: 0.4779 - acc: 0.147\n",
      "Epoch 48/50\n",
      "1470/1470 [==============================] - 0s 131us/step - loss: 0.4855 - acc: 0.1474\n",
      "Epoch 49/50\n",
      "1470/1470 [==============================] - 0s 133us/step - loss: 0.4855 - acc: 0.1472\n",
      "Epoch 50/50\n",
      "1470/1470 [==============================] - 0s 142us/step - loss: 0.4854 - acc: 0.1481\n"
     ]
    },
    {
     "data": {
      "text/plain": [
       "<keras.callbacks.History at 0x4a517d5320>"
      ]
     },
     "execution_count": 27,
     "metadata": {},
     "output_type": "execute_result"
    }
   ],
   "source": [
    "classifier.compile(optimizer='adam', loss='binary_crossentropy', metrics = ['accuracy'])\n",
    "classifier.fit(X_train, Y, batch_size = 32, epochs = 50)\n",
    "\n"
   ]
  },
  {
   "cell_type": "code",
   "execution_count": 28,
   "metadata": {},
   "outputs": [],
   "source": [
    "ypred=classifier.predict(X_test)\n"
   ]
  },
  {
   "cell_type": "code",
   "execution_count": 29,
   "metadata": {},
   "outputs": [
    {
     "data": {
      "text/plain": [
       "array([[-0.99953413, -0.9905202 , -0.99975055, -0.99999875,  0.99988705,\n",
       "        -0.99995196],\n",
       "       [-0.9984586 , -0.99607974, -0.9999733 , -1.        ,  0.98588234,\n",
       "        -0.9999305 ],\n",
       "       [-0.99996287, -0.9980158 , -0.9999868 , -1.        ,  0.8808941 ,\n",
       "        -0.9999323 ],\n",
       "       ...,\n",
       "       [-0.6027662 ,  0.8174698 , -0.92579865, -0.99990904, -0.9980211 ,\n",
       "        -0.9954184 ],\n",
       "       [-0.81819105,  0.70897144, -0.44673032, -0.9960008 , -0.84335774,\n",
       "        -0.994964  ],\n",
       "       [ 0.765664  , -0.88340783, -0.58028746, -0.99921316, -0.9718182 ,\n",
       "        -0.99705625]], dtype=float32)"
      ]
     },
     "execution_count": 29,
     "metadata": {},
     "output_type": "execute_result"
    }
   ],
   "source": [
    "ypred"
   ]
  },
  {
   "cell_type": "code",
   "execution_count": 30,
   "metadata": {},
   "outputs": [],
   "source": [
    "import numpy as np\n",
    "ypred_max=np.argmax(ypred, axis=1)\n",
    "y_test_max=np.argmax(y_test, axis=1)"
   ]
  },
  {
   "cell_type": "code",
   "execution_count": 31,
   "metadata": {},
   "outputs": [
    {
     "data": {
      "text/plain": [
       "array([4, 4, 4, ..., 1, 1, 0], dtype=int64)"
      ]
     },
     "execution_count": 31,
     "metadata": {},
     "output_type": "execute_result"
    }
   ],
   "source": [
    "ypred_max"
   ]
  },
  {
   "cell_type": "code",
   "execution_count": 32,
   "metadata": {},
   "outputs": [
    {
     "data": {
      "text/html": [
       "<div>\n",
       "<style scoped>\n",
       "    .dataframe tbody tr th:only-of-type {\n",
       "        vertical-align: middle;\n",
       "    }\n",
       "\n",
       "    .dataframe tbody tr th {\n",
       "        vertical-align: top;\n",
       "    }\n",
       "\n",
       "    .dataframe thead th {\n",
       "        text-align: right;\n",
       "    }\n",
       "</style>\n",
       "<table border=\"1\" class=\"dataframe\">\n",
       "  <thead>\n",
       "    <tr style=\"text-align: right;\">\n",
       "      <th></th>\n",
       "      <th>0</th>\n",
       "    </tr>\n",
       "  </thead>\n",
       "  <tbody>\n",
       "    <tr>\n",
       "      <th>0</th>\n",
       "      <td>0</td>\n",
       "    </tr>\n",
       "    <tr>\n",
       "      <th>1</th>\n",
       "      <td>0</td>\n",
       "    </tr>\n",
       "    <tr>\n",
       "      <th>2</th>\n",
       "      <td>0</td>\n",
       "    </tr>\n",
       "    <tr>\n",
       "      <th>3</th>\n",
       "      <td>0</td>\n",
       "    </tr>\n",
       "    <tr>\n",
       "      <th>4</th>\n",
       "      <td>0</td>\n",
       "    </tr>\n",
       "    <tr>\n",
       "      <th>5</th>\n",
       "      <td>0</td>\n",
       "    </tr>\n",
       "    <tr>\n",
       "      <th>6</th>\n",
       "      <td>0</td>\n",
       "    </tr>\n",
       "    <tr>\n",
       "      <th>7</th>\n",
       "      <td>0</td>\n",
       "    </tr>\n",
       "    <tr>\n",
       "      <th>8</th>\n",
       "      <td>0</td>\n",
       "    </tr>\n",
       "    <tr>\n",
       "      <th>9</th>\n",
       "      <td>0</td>\n",
       "    </tr>\n",
       "    <tr>\n",
       "      <th>10</th>\n",
       "      <td>0</td>\n",
       "    </tr>\n",
       "    <tr>\n",
       "      <th>11</th>\n",
       "      <td>0</td>\n",
       "    </tr>\n",
       "    <tr>\n",
       "      <th>12</th>\n",
       "      <td>0</td>\n",
       "    </tr>\n",
       "    <tr>\n",
       "      <th>13</th>\n",
       "      <td>0</td>\n",
       "    </tr>\n",
       "    <tr>\n",
       "      <th>14</th>\n",
       "      <td>0</td>\n",
       "    </tr>\n",
       "    <tr>\n",
       "      <th>15</th>\n",
       "      <td>0</td>\n",
       "    </tr>\n",
       "    <tr>\n",
       "      <th>16</th>\n",
       "      <td>0</td>\n",
       "    </tr>\n",
       "    <tr>\n",
       "      <th>17</th>\n",
       "      <td>0</td>\n",
       "    </tr>\n",
       "    <tr>\n",
       "      <th>18</th>\n",
       "      <td>0</td>\n",
       "    </tr>\n",
       "    <tr>\n",
       "      <th>19</th>\n",
       "      <td>0</td>\n",
       "    </tr>\n",
       "    <tr>\n",
       "      <th>20</th>\n",
       "      <td>0</td>\n",
       "    </tr>\n",
       "    <tr>\n",
       "      <th>21</th>\n",
       "      <td>0</td>\n",
       "    </tr>\n",
       "    <tr>\n",
       "      <th>22</th>\n",
       "      <td>0</td>\n",
       "    </tr>\n",
       "    <tr>\n",
       "      <th>23</th>\n",
       "      <td>0</td>\n",
       "    </tr>\n",
       "    <tr>\n",
       "      <th>24</th>\n",
       "      <td>0</td>\n",
       "    </tr>\n",
       "    <tr>\n",
       "      <th>25</th>\n",
       "      <td>0</td>\n",
       "    </tr>\n",
       "    <tr>\n",
       "      <th>26</th>\n",
       "      <td>0</td>\n",
       "    </tr>\n",
       "    <tr>\n",
       "      <th>27</th>\n",
       "      <td>0</td>\n",
       "    </tr>\n",
       "    <tr>\n",
       "      <th>28</th>\n",
       "      <td>0</td>\n",
       "    </tr>\n",
       "    <tr>\n",
       "      <th>29</th>\n",
       "      <td>0</td>\n",
       "    </tr>\n",
       "    <tr>\n",
       "      <th>...</th>\n",
       "      <td>...</td>\n",
       "    </tr>\n",
       "    <tr>\n",
       "      <th>2917</th>\n",
       "      <td>0</td>\n",
       "    </tr>\n",
       "    <tr>\n",
       "      <th>2918</th>\n",
       "      <td>0</td>\n",
       "    </tr>\n",
       "    <tr>\n",
       "      <th>2919</th>\n",
       "      <td>0</td>\n",
       "    </tr>\n",
       "    <tr>\n",
       "      <th>2920</th>\n",
       "      <td>0</td>\n",
       "    </tr>\n",
       "    <tr>\n",
       "      <th>2921</th>\n",
       "      <td>0</td>\n",
       "    </tr>\n",
       "    <tr>\n",
       "      <th>2922</th>\n",
       "      <td>0</td>\n",
       "    </tr>\n",
       "    <tr>\n",
       "      <th>2923</th>\n",
       "      <td>0</td>\n",
       "    </tr>\n",
       "    <tr>\n",
       "      <th>2924</th>\n",
       "      <td>0</td>\n",
       "    </tr>\n",
       "    <tr>\n",
       "      <th>2925</th>\n",
       "      <td>0</td>\n",
       "    </tr>\n",
       "    <tr>\n",
       "      <th>2926</th>\n",
       "      <td>0</td>\n",
       "    </tr>\n",
       "    <tr>\n",
       "      <th>2927</th>\n",
       "      <td>0</td>\n",
       "    </tr>\n",
       "    <tr>\n",
       "      <th>2928</th>\n",
       "      <td>0</td>\n",
       "    </tr>\n",
       "    <tr>\n",
       "      <th>2929</th>\n",
       "      <td>0</td>\n",
       "    </tr>\n",
       "    <tr>\n",
       "      <th>2930</th>\n",
       "      <td>0</td>\n",
       "    </tr>\n",
       "    <tr>\n",
       "      <th>2931</th>\n",
       "      <td>0</td>\n",
       "    </tr>\n",
       "    <tr>\n",
       "      <th>2932</th>\n",
       "      <td>0</td>\n",
       "    </tr>\n",
       "    <tr>\n",
       "      <th>2933</th>\n",
       "      <td>0</td>\n",
       "    </tr>\n",
       "    <tr>\n",
       "      <th>2934</th>\n",
       "      <td>0</td>\n",
       "    </tr>\n",
       "    <tr>\n",
       "      <th>2935</th>\n",
       "      <td>0</td>\n",
       "    </tr>\n",
       "    <tr>\n",
       "      <th>2936</th>\n",
       "      <td>0</td>\n",
       "    </tr>\n",
       "    <tr>\n",
       "      <th>2937</th>\n",
       "      <td>0</td>\n",
       "    </tr>\n",
       "    <tr>\n",
       "      <th>2938</th>\n",
       "      <td>0</td>\n",
       "    </tr>\n",
       "    <tr>\n",
       "      <th>2939</th>\n",
       "      <td>0</td>\n",
       "    </tr>\n",
       "    <tr>\n",
       "      <th>2940</th>\n",
       "      <td>0</td>\n",
       "    </tr>\n",
       "    <tr>\n",
       "      <th>2941</th>\n",
       "      <td>0</td>\n",
       "    </tr>\n",
       "    <tr>\n",
       "      <th>2942</th>\n",
       "      <td>0</td>\n",
       "    </tr>\n",
       "    <tr>\n",
       "      <th>2943</th>\n",
       "      <td>0</td>\n",
       "    </tr>\n",
       "    <tr>\n",
       "      <th>2944</th>\n",
       "      <td>0</td>\n",
       "    </tr>\n",
       "    <tr>\n",
       "      <th>2945</th>\n",
       "      <td>0</td>\n",
       "    </tr>\n",
       "    <tr>\n",
       "      <th>2946</th>\n",
       "      <td>0</td>\n",
       "    </tr>\n",
       "  </tbody>\n",
       "</table>\n",
       "<p>2947 rows × 1 columns</p>\n",
       "</div>"
      ],
      "text/plain": [
       "      0\n",
       "0     0\n",
       "1     0\n",
       "2     0\n",
       "3     0\n",
       "4     0\n",
       "5     0\n",
       "6     0\n",
       "7     0\n",
       "8     0\n",
       "9     0\n",
       "10    0\n",
       "11    0\n",
       "12    0\n",
       "13    0\n",
       "14    0\n",
       "15    0\n",
       "16    0\n",
       "17    0\n",
       "18    0\n",
       "19    0\n",
       "20    0\n",
       "21    0\n",
       "22    0\n",
       "23    0\n",
       "24    0\n",
       "25    0\n",
       "26    0\n",
       "27    0\n",
       "28    0\n",
       "29    0\n",
       "...  ..\n",
       "2917  0\n",
       "2918  0\n",
       "2919  0\n",
       "2920  0\n",
       "2921  0\n",
       "2922  0\n",
       "2923  0\n",
       "2924  0\n",
       "2925  0\n",
       "2926  0\n",
       "2927  0\n",
       "2928  0\n",
       "2929  0\n",
       "2930  0\n",
       "2931  0\n",
       "2932  0\n",
       "2933  0\n",
       "2934  0\n",
       "2935  0\n",
       "2936  0\n",
       "2937  0\n",
       "2938  0\n",
       "2939  0\n",
       "2940  0\n",
       "2941  0\n",
       "2942  0\n",
       "2943  0\n",
       "2944  0\n",
       "2945  0\n",
       "2946  0\n",
       "\n",
       "[2947 rows x 1 columns]"
      ]
     },
     "execution_count": 32,
     "metadata": {},
     "output_type": "execute_result"
    }
   ],
   "source": [
    "y_test_max"
   ]
  },
  {
   "cell_type": "code",
   "execution_count": 33,
   "metadata": {},
   "outputs": [
    {
     "name": "stdout",
     "output_type": "stream",
     "text": [
      "             precision    recall  f1-score   support\n",
      "\n",
      "          0       1.00      0.18      0.31      2947\n",
      "          1       0.00      0.00      0.00         0\n",
      "          2       0.00      0.00      0.00         0\n",
      "          4       0.00      0.00      0.00         0\n",
      "          5       0.00      0.00      0.00         0\n",
      "\n",
      "avg / total       1.00      0.18      0.31      2947\n",
      "\n",
      "[[540 507 402 943 555]\n",
      " [  0   0   0   0   0]\n",
      " [  0   0   0   0   0]\n",
      " [  0   0   0   0   0]\n",
      " [  0   0   0   0   0]]\n"
     ]
    },
    {
     "name": "stderr",
     "output_type": "stream",
     "text": [
      "F:\\Anaconda\\envs\\tf-gpu\\lib\\site-packages\\sklearn\\metrics\\classification.py:1137: UndefinedMetricWarning: Recall and F-score are ill-defined and being set to 0.0 in labels with no true samples.\n",
      "  'recall', 'true', average, warn_for)\n"
     ]
    }
   ],
   "source": [
    "from sklearn.metrics import classification_report,confusion_matrix\n",
    "print(classification_report(y_test_max,ypred_max))\n",
    "print(confusion_matrix(y_test_max,ypred_max))"
   ]
  },
  {
   "cell_type": "code",
   "execution_count": null,
   "metadata": {},
   "outputs": [],
   "source": [
    "from sklearn.metrics import accuracy_score\n",
    "accuracy_score(ypred_max, y_test_max)"
   ]
  },
  {
   "cell_type": "code",
   "execution_count": 36,
   "metadata": {},
   "outputs": [
    {
     "data": {
      "text/plain": [
       "0    1.0\n",
       "Name: 0, dtype: float64"
      ]
     },
     "execution_count": 36,
     "metadata": {},
     "output_type": "execute_result"
    }
   ],
   "source": [
    "y_test_max[0].value_counts(1)"
   ]
  },
  {
   "cell_type": "code",
   "execution_count": 38,
   "metadata": {},
   "outputs": [
    {
     "data": {
      "text/plain": [
       "0       0\n",
       "1       0\n",
       "2       0\n",
       "3       0\n",
       "4       0\n",
       "5       0\n",
       "6       0\n",
       "7       0\n",
       "8       0\n",
       "9       0\n",
       "10      0\n",
       "11      0\n",
       "12      0\n",
       "13      0\n",
       "14      0\n",
       "15      0\n",
       "16      0\n",
       "17      0\n",
       "18      0\n",
       "19      0\n",
       "20      0\n",
       "21      0\n",
       "22      0\n",
       "23      0\n",
       "24      0\n",
       "25      0\n",
       "26      0\n",
       "27      0\n",
       "28      0\n",
       "29      0\n",
       "       ..\n",
       "2917    0\n",
       "2918    0\n",
       "2919    0\n",
       "2920    0\n",
       "2921    0\n",
       "2922    0\n",
       "2923    0\n",
       "2924    0\n",
       "2925    0\n",
       "2926    0\n",
       "2927    0\n",
       "2928    0\n",
       "2929    0\n",
       "2930    0\n",
       "2931    0\n",
       "2932    0\n",
       "2933    0\n",
       "2934    0\n",
       "2935    0\n",
       "2936    0\n",
       "2937    0\n",
       "2938    0\n",
       "2939    0\n",
       "2940    0\n",
       "2941    0\n",
       "2942    0\n",
       "2943    0\n",
       "2944    0\n",
       "2945    0\n",
       "2946    0\n",
       "Name: 0, Length: 2947, dtype: int64"
      ]
     },
     "execution_count": 38,
     "metadata": {},
     "output_type": "execute_result"
    }
   ],
   "source": [
    "y_test_max[0]"
   ]
  },
  {
   "cell_type": "code",
   "execution_count": null,
   "metadata": {},
   "outputs": [],
   "source": []
  }
 ],
 "metadata": {
  "kernelspec": {
   "display_name": "TensorFlow-GPU",
   "language": "python",
   "name": "tf-gpu"
  },
  "language_info": {
   "codemirror_mode": {
    "name": "ipython",
    "version": 3
   },
   "file_extension": ".py",
   "mimetype": "text/x-python",
   "name": "python",
   "nbconvert_exporter": "python",
   "pygments_lexer": "ipython3",
   "version": "3.6.6"
  }
 },
 "nbformat": 4,
 "nbformat_minor": 2
}
